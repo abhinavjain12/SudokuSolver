{
  "nbformat": 4,
  "nbformat_minor": 0,
  "metadata": {
    "colab": {
      "name": "sudoku.ipynb",
      "provenance": [],
      "collapsed_sections": [],
      "toc_visible": true,
      "authorship_tag": "ABX9TyPh/ucphMEkbsjlMW5okm9H",
      "include_colab_link": true
    },
    "kernelspec": {
      "name": "python3",
      "display_name": "Python 3"
    }
  },
  "cells": [
    {
      "cell_type": "markdown",
      "metadata": {
        "id": "view-in-github",
        "colab_type": "text"
      },
      "source": [
        "<a href=\"https://colab.research.google.com/github/abhinavjain12/SudokuSolver/blob/main/sudoku.ipynb\" target=\"_parent\"><img src=\"https://colab.research.google.com/assets/colab-badge.svg\" alt=\"Open In Colab\"/></a>"
      ]
    },
    {
      "cell_type": "code",
      "metadata": {
        "id": "2welNjqb-Lg7"
      },
      "source": [
        "import pandas as pd"
      ],
      "execution_count": null,
      "outputs": []
    },
    {
      "cell_type": "code",
      "metadata": {
        "id": "8u781-f0-Wyj"
      },
      "source": [
        "df = pd.read_csv('/content/sample_data/mnist_test.csv')"
      ],
      "execution_count": null,
      "outputs": []
    },
    {
      "cell_type": "code",
      "metadata": {
        "id": "UDRjlNReAWVe"
      },
      "source": [
        "def plot_many_images(images, titles, rows=1, columns=2):\n",
        "\t\"\"\"Plots each image in a given list in a grid format using Matplotlib.\"\"\"\n",
        "\tfor i, image in enumerate(images):\n",
        "\t\tplt.subplot(rows, columns, i+1)\n",
        "\t\tplt.imshow(image, 'gray')\n",
        "\t\tplt.title(titles[i])\n",
        "\t\tplt.xticks([]), plt.yticks([])  # Hide tick marks\n",
        "\tplt.show()\n",
        "def show_image(img):\n",
        "\t\"\"\"Shows an image until any key is pressed\"\"\"\n",
        "\tcv2.imshow('image', img)  # Display the image\n",
        "\tcv2.waitKey(0)  # Wait for any key to be pressed (with the image window active)\n",
        "\tcv2.destroyAllWindows()  # Close all windows"
      ],
      "execution_count": null,
      "outputs": []
    },
    {
      "cell_type": "code",
      "metadata": {
        "id": "w8wZV0gH-TqK"
      },
      "source": [
        "def pre_process_image(img, skip_dilate=False):\n",
        "\t\"\"\"Uses a blurring function, adaptive thresholding and dilation to expose the main features of an image.\"\"\"\n",
        "\n",
        "\t# Gaussian blur with a kernal size (height, width) of 9.\n",
        "\t# Note that kernal sizes must be positive and odd and the kernel must be square.\n",
        "\tproc = cv2.GaussianBlur(img.copy(), (9, 9), 0)\n",
        "\n",
        "\t# Adaptive threshold using 11 nearest neighbour pixels\n",
        "\tproc = cv2.adaptiveThreshold(proc, 255, cv2.ADAPTIVE_THRESH_GAUSSIAN_C, cv2.THRESH_BINARY, 11, 2)\n",
        "\n",
        "\t# Invert colours, so gridlines have non-zero pixel values.\n",
        "\t# Necessary to dilate the image, otherwise will look like erosion instead.\n",
        "\tproc = cv2.bitwise_not(proc, proc)\n",
        "\n",
        "  # if not skip_dilate:\n",
        "  #   #   # Dilate the image to increase the size of the grid lines.\n",
        "  #      kernel = np.array([[0., 1., 0.], [1., 1., 1.], [0., 1., 0.]])\n",
        "  #      proc = cv2.dilate(proc, kernel)\n",
        "\n",
        "\treturn proc"
      ],
      "execution_count": null,
      "outputs": []
    },
    {
      "cell_type": "code",
      "metadata": {
        "id": "WTSU95NvAjnw"
      },
      "source": [
        "def find_corners_of_largest_polygon(img):\n",
        "\t\"\"\"Finds the 4 extreme corners of the largest contour in the image.\"\"\"\n",
        "\tcontours, h = cv2.findContours(img.copy(), cv2.RETR_EXTERNAL, cv2.CHAIN_APPROX_SIMPLE)  # Find contours\n",
        "\tcontours = sorted(contours, key=cv2.contourArea, reverse=True)  # Sort by area, descending\n",
        "\tpolygon = contours[0]  # Largest image\n",
        "\n",
        "\t# Use of `operator.itemgetter` with `max` and `min` allows us to get the index of the point\n",
        "\t# Each point is an array of 1 coordinate, hence the [0] getter, then [0] or [1] used to get x and y respectively.\n",
        "\n",
        "\t# Bottom-right point has the largest (x + y) value\n",
        "\t# Top-left has point smallest (x + y) value\n",
        "\t# Bottom-left point has smallest (x - y) value\n",
        "\t# Top-right point has largest (x - y) value\n",
        "\tbottom_right, _ = max(enumerate([pt[0][0] + pt[0][1] for pt in polygon]), key=operator.itemgetter(1))\n",
        "\ttop_left, _ = min(enumerate([pt[0][0] + pt[0][1] for pt in polygon]), key=operator.itemgetter(1))\n",
        "\tbottom_left, _ = min(enumerate([pt[0][0] - pt[0][1] for pt in polygon]), key=operator.itemgetter(1))\n",
        "\ttop_right, _ = max(enumerate([pt[0][0] - pt[0][1] for pt in polygon]), key=operator.itemgetter(1))\n",
        "\n",
        "\t# Return an array of all 4 points using the indices\n",
        "\t# Each point is in its own array of one coordinate\n",
        "\treturn [polygon[top_left][0], polygon[top_right][0], polygon[bottom_right][0], polygon[bottom_left][0]]\n",
        "def display_points(in_img, points, radius=5, colour=(0, 0, 255)):\n",
        "\t\"\"\"Draws circular points on an image.\"\"\"\n",
        "\timg = in_img.copy()\n",
        "\n",
        "\t# Dynamically change to a colour image if necessary\n",
        "\tif len(colour) == 3:\n",
        "\t\tif len(img.shape) == 2:\n",
        "\t\t\timg = cv2.cvtColor(img, cv2.COLOR_GRAY2BGR)\n",
        "\t\telif img.shape[2] == 1:\n",
        "\t\t\timg = cv2.cvtColor(img, cv2.COLOR_GRAY2BGR)\n",
        "\n",
        "\tfor point in points:\n",
        "\t\timg = cv2.circle(img, tuple(int(x) for x in point), radius, colour, -1)\n",
        "\t#plot_many_images([in_img],['hello'])\n",
        "\tshow_image(img)\n",
        "\treturn img\n",
        "\n",
        "def distance_between(p1, p2):\n",
        "\t\"\"\"Returns the scalar distance between two points\"\"\"\n",
        "\ta = p2[0] - p1[0]\n",
        "\tb = p2[1] - p1[1]\n",
        "\treturn np.sqrt((a ** 2) + (b ** 2))\n",
        "\n",
        "\n",
        "def crop_and_warp(img, crop_rect):\n",
        "\t\"\"\"Crops and warps a rectangular section from an image into a square of similar size.\"\"\"\n",
        "\n",
        "\t# Rectangle described by top left, top right, bottom right and bottom left points\n",
        "\ttop_left, top_right, bottom_right, bottom_left = crop_rect[0], crop_rect[1], crop_rect[2], crop_rect[3]\n",
        "\n",
        "\t# Explicitly set the data type to float32 or `getPerspectiveTransform` will throw an error\n",
        "\tsrc = np.array([top_left, top_right, bottom_right, bottom_left], dtype='float32')\n",
        "\n",
        "\t# Get the longest side in the rectangle\n",
        "\tside = max([\n",
        "\t\tdistance_between(bottom_right, top_right),\n",
        "\t\tdistance_between(top_left, bottom_left),\n",
        "\t\tdistance_between(bottom_right, bottom_left),\n",
        "\t\tdistance_between(top_left, top_right)\n",
        "\t])\n",
        "\n",
        "\t# Describe a square with side of the calculated length, this is the new perspective we want to warp to\n",
        "\tdst = np.array([[0, 0], [side - 1, 0], [side - 1, side - 1], [0, side - 1]], dtype='float32')\n",
        "\n",
        "\t# Gets the transformation matrix for skewing the image to fit a square by comparing the 4 before and after points\n",
        "\tm = cv2.getPerspectiveTransform(src, dst)\n",
        "\n",
        "\t# Performs the transformation on the original image\n",
        "\treturn cv2.warpPerspective(img, m, (int(side), int(side)))\n",
        "\n",
        "def infer_grid(img):\n",
        "\t\"\"\"Infers 81 cell grid from a square image.\"\"\"\n",
        "\tsquares = []\n",
        "\tside = img.shape[:1]\n",
        "\tside = side[0] / 9\n",
        "\tfor i in range(9):\n",
        "\t\tfor j in range(9):\n",
        "\t\t\tp1 = (i * side, j * side)  # Top left corner of a bounding box\n",
        "\t\t\tp2 = ((i + 1) * side, (j + 1) * side)  # Bottom right corner of bounding box\n",
        "\t\t\tsquares.append((p1, p2))\n",
        "\treturn squares\n",
        "\n",
        "def display_rects(in_img, rects, colour=255):\n",
        "\t\"\"\"Displays rectangles on the image.\"\"\"\n",
        "\timg = in_img.copy()\n",
        "\tfor rect in rects:\n",
        "\t\timg = cv2.rectangle(img, tuple(int(x) for x in rect[0]), tuple(int(x) for x in rect[1]), colour)\n",
        "\tshow_image(img)\n",
        "\treturn img\n",
        "def cut_from_rect(img, rect):\n",
        "\t\"\"\"Cuts a rectangle from an image using the top left and bottom right points.\"\"\"\n",
        "\treturn img[int(rect[0][1]):int(rect[1][1]), int(rect[0][0]):int(rect[1][0])]\n",
        "\n",
        "\n",
        "def scale_and_centre(img, size, margin=0, background=0):\n",
        "\t\"\"\"Scales and centres an image onto a new background square.\"\"\"\n",
        "\th, w = img.shape[:2]\n",
        "\n",
        "\tdef centre_pad(length):\n",
        "\t\t\"\"\"Handles centering for a given length that may be odd or even.\"\"\"\n",
        "\t\tif length % 2 == 0:\n",
        "\t\t\tside1 = int((size - length) / 2)\n",
        "\t\t\tside2 = side1\n",
        "\t\telse:\n",
        "\t\t\tside1 = int((size - length) / 2)\n",
        "\t\t\tside2 = side1 + 1\n",
        "\t\treturn side1, side2\n",
        "\n",
        "\tdef scale(r, x):\n",
        "\t\treturn int(r * x)\n",
        "\n",
        "\tif h > w:\n",
        "\t\tt_pad = int(margin / 2)\n",
        "\t\tb_pad = t_pad\n",
        "\t\tratio = (size - margin) / h\n",
        "\t\tw, h = scale(ratio, w), scale(ratio, h)\n",
        "\t\tl_pad, r_pad = centre_pad(w)\n",
        "\telse:\n",
        "\t\tl_pad = int(margin / 2)\n",
        "\t\tr_pad = l_pad\n",
        "\t\tratio = (size - margin) / w\n",
        "\t\tw, h = scale(ratio, w), scale(ratio, h)\n",
        "\t\tt_pad, b_pad = centre_pad(h)\n",
        "\n",
        "\timg = cv2.resize(img, (w, h))\n",
        "\timg = cv2.copyMakeBorder(img, t_pad, b_pad, l_pad, r_pad, cv2.BORDER_CONSTANT, None, background)\n",
        "\treturn cv2.resize(img, (size, size))\n",
        "\n",
        "\n",
        "def find_largest_feature(inp_img, scan_tl=None, scan_br=None):\n",
        "\t\"\"\"\n",
        "\tUses the fact the `floodFill` function returns a bounding box of the area it filled to find the biggest\n",
        "\tconnected pixel structure in the image. Fills this structure in white, reducing the rest to black.\n",
        "\t\"\"\"\n",
        "\timg = inp_img.copy()  # Copy the image, leaving the original untouched\n",
        "\theight, width = img.shape[:2]\n",
        "\n",
        "\tmax_area = 0\n",
        "\tseed_point = (None, None)\n",
        "\n",
        "\tif scan_tl is None:\n",
        "\t\tscan_tl = [0, 0]\n",
        "\n",
        "\tif scan_br is None:\n",
        "\t\tscan_br = [width, height]\n",
        "\n",
        "\t# Loop through the image\n",
        "\tfor x in range(scan_tl[0], scan_br[0]):\n",
        "\t\tfor y in range(scan_tl[1], scan_br[1]):\n",
        "\t\t\t# Only operate on light or white squares\n",
        "\t\t\tif img.item(y, x) == 255 and x < width and y < height:  # Note that .item() appears to take input as y, x\n",
        "\t\t\t\tarea = cv2.floodFill(img, None, (x, y), 64)\n",
        "\t\t\t\tif area[0] > max_area:  # Gets the maximum bound area which should be the grid\n",
        "\t\t\t\t\tmax_area = area[0]\n",
        "\t\t\t\t\tseed_point = (x, y)\n",
        "\n",
        "\t# Colour everything grey (compensates for features outside of our middle scanning range\n",
        "\tfor x in range(width):\n",
        "\t\tfor y in range(height):\n",
        "\t\t\tif img.item(y, x) == 255 and x < width and y < height:\n",
        "\t\t\t\tcv2.floodFill(img, None, (x, y), 64)\n",
        "\n",
        "\tmask = np.zeros((height + 2, width + 2), np.uint8)  # Mask that is 2 pixels bigger than the image\n",
        "\n",
        "\t# Highlight the main feature\n",
        "\tif all([p is not None for p in seed_point]):\n",
        "\t\tcv2.floodFill(img, mask, seed_point, 255)\n",
        "\n",
        "\ttop, bottom, left, right = height, 0, width, 0\n",
        "\n",
        "\tfor x in range(width):\n",
        "\t\tfor y in range(height):\n",
        "\t\t\tif img.item(y, x) == 64:  # Hide anything that isn't the main feature\n",
        "\t\t\t\tcv2.floodFill(img, mask, (x, y), 0)\n",
        "\n",
        "\t\t\t# Find the bounding parameters\n",
        "\t\t\tif img.item(y, x) == 255:\n",
        "\t\t\t\ttop = y if y < top else top\n",
        "\t\t\t\tbottom = y if y > bottom else bottom\n",
        "\t\t\t\tleft = x if x < left else left\n",
        "\t\t\t\tright = x if x > right else right\n",
        "\n",
        "\tbbox = [[left, top], [right, bottom]]\n",
        "\treturn img, np.array(bbox, dtype='float32'), seed_point\n",
        "\n",
        "\n",
        "def extract_digit(img, rect, size):\n",
        "\t\"\"\"Extracts a digit (if one exists) from a Sudoku square.\"\"\"\n",
        "\n",
        "\tdigit = cut_from_rect(img, rect)  # Get the digit box from the whole square\n",
        "\n",
        "\t# Use fill feature finding to get the largest feature in middle of the box\n",
        "\t# Margin used to define an area in the middle we would expect to find a pixel belonging to the digit\n",
        "\th, w = digit.shape[:2]\n",
        "\tmargin = int(np.mean([h, w]) / 2.5)\n",
        "\t_, bbox, seed = find_largest_feature(digit, [margin, margin], [w - margin, h - margin])\n",
        "\tdigit = cut_from_rect(digit, bbox)\n",
        "\n",
        "\t# Scale and pad the digit so that it fits a square of the digit size we're using for machine learning\n",
        "\tw = bbox[1][0] - bbox[0][0]\n",
        "\th = bbox[1][1] - bbox[0][1]\n",
        "\n",
        "\t# Ignore any small bounding boxes\n",
        "\tif w > 0 and h > 0 and (w * h) > 50 and len(digit) > 0:\n",
        "\t\treturn scale_and_centre(digit, size, 4)\n",
        "\telse:\n",
        "\t\treturn np.zeros((size, size), np.uint8)\n",
        "\n",
        "def get_digits(img, squares, size):\n",
        "\t\"\"\"Extracts digits from their cells and builds an array\"\"\"\n",
        "\tdigits = []\n",
        "\timg = pre_process_image(img.copy(), skip_dilate=True)\n",
        "\tfor square in squares:\n",
        "\t\tdigits.append(extract_digit(img, square, size))\n",
        "\treturn digits\n",
        "\n",
        "\n",
        "def show_digits(digits, colour):\n",
        "\t\"\"\"Shows list of 81 extracted digits in a grid format\"\"\"\n",
        "\trows = []\n",
        "\twith_border = [cv2.copyMakeBorder(img.copy(), 1, 1, 1, 1, cv2.BORDER_CONSTANT, None, colour) for img in digits]\n",
        "\tfor i in range(9):\n",
        "\t\trow = np.concatenate(with_border[i * 9:((i + 1) * 9)], axis=1)\n",
        "\t\trows.append(row)\n",
        "\tshow_image(np.concatenate(rows))"
      ],
      "execution_count": null,
      "outputs": []
    },
    {
      "cell_type": "code",
      "metadata": {
        "id": "WSHZxxIa-fEQ"
      },
      "source": [
        "import cv2\n",
        "import numpy as np\n",
        "from matplotlib import pyplot as plt\n",
        "import operator"
      ],
      "execution_count": null,
      "outputs": []
    },
    {
      "cell_type": "code",
      "metadata": {
        "id": "HtCzIv4p-mu3"
      },
      "source": [
        "img = cv2.imread('/content/sudoku_image.jpg', cv2.IMREAD_GRAYSCALE)"
      ],
      "execution_count": null,
      "outputs": []
    },
    {
      "cell_type": "code",
      "metadata": {
        "id": "JOU1zjzaAL4L"
      },
      "source": [
        "processed =  pre_process_image(img)\n",
        "corners = find_corners_of_largest_polygon(processed)\n",
        "#plot_many_images([processed],['hello'])\n",
        "cropped = crop_and_warp(img , corners)\n",
        "#show_image(cropped)\n",
        "squares = infer_grid(cropped)\n",
        "#display_points(processed, corners)\n",
        "#display_rects(cropped, squares)\n",
        "digits = get_digits(cropped, squares, 28)\n",
        "digits\n",
        "#show_digits(digits,255)"
      ],
      "execution_count": null,
      "outputs": []
    },
    {
      "cell_type": "code",
      "metadata": {
        "id": "JHZL0W_EBjJn"
      },
      "source": [
        "digits[0]"
      ],
      "execution_count": null,
      "outputs": []
    },
    {
      "cell_type": "code",
      "metadata": {
        "id": "GNUIZYnECC2h"
      },
      "source": [
        "import tensorflow as tf\n",
        "mnist = tf.keras.datasets.mnist\n",
        "(x_train, y_train),(x_test, y_test) = mnist.load_data()"
      ],
      "execution_count": null,
      "outputs": []
    },
    {
      "cell_type": "code",
      "metadata": {
        "id": "0Bql4hvGvwPn"
      },
      "source": [
        "j = 0;\n",
        "for i in range(60000):\n",
        "  if(y_train[i] == 0):\n",
        "    #j = i;\n",
        "    x_train[i] = 0.\n",
        "\n",
        "#print(x_train[j] )\n",
        "#print(y_train[j] )"
      ],
      "execution_count": null,
      "outputs": []
    },
    {
      "cell_type": "code",
      "metadata": {
        "id": "ypuwfofopnGX"
      },
      "source": [
        "# allones = np.zeros((10000 , 28 , 28))\n",
        "# allones = allones + 255.0\n",
        "# alloneslabel = np.zeros((10000,1,1))"
      ],
      "execution_count": null,
      "outputs": []
    },
    {
      "cell_type": "code",
      "metadata": {
        "id": "uRvz4DAZRZ0c",
        "outputId": "b097771c-1715-4343-b745-ff4618fa8999",
        "colab": {
          "base_uri": "https://localhost:8080/",
          "height": 34
        }
      },
      "source": [
        "mm , d1 , d2 = x_train.shape\n",
        "print(mm , \" \" , d1  , \" \" , d2)"
      ],
      "execution_count": null,
      "outputs": [
        {
          "output_type": "stream",
          "text": [
            "60000   28   28\n"
          ],
          "name": "stdout"
        }
      ]
    },
    {
      "cell_type": "code",
      "metadata": {
        "id": "yHvqt_Vxp7bj"
      },
      "source": [
        "# x_train = np.append(x_train , allones)\n",
        "# x_train.shape\n",
        "# x_train = x_train.reshape(mm+10000 , d1 , d2)\n",
        "# y_train = np.append(y_train , alloneslabel)\n",
        "# y_train = y_train.reshape(mm+10000 , 1 ,1)"
      ],
      "execution_count": null,
      "outputs": []
    },
    {
      "cell_type": "code",
      "metadata": {
        "id": "K1w_BNL9tCHp"
      },
      "source": [
        "# print(x_train[60001])\n",
        "# print(y_train[60001])"
      ],
      "execution_count": null,
      "outputs": []
    },
    {
      "cell_type": "code",
      "metadata": {
        "id": "0SLAnsz-DL24"
      },
      "source": [
        "x_train = tf.keras.utils.normalize(x_train, axis=1)\n",
        "x_test = tf.keras.utils.normalize(x_test, axis=1)"
      ],
      "execution_count": null,
      "outputs": []
    },
    {
      "cell_type": "code",
      "metadata": {
        "id": "hgj2Jdg6DQS2"
      },
      "source": [
        "model = tf.keras.models.Sequential()\n",
        "model.add(tf.keras.layers.Flatten())\n",
        "model.add(tf.keras.layers.Dense(128, activation=tf.nn.relu))\n",
        "model.add(tf.keras.layers.Dense(128, activation=tf.nn.relu))\n",
        "model.add(tf.keras.layers.Dense(128, activation=tf.nn.relu))\n",
        "model.add(tf.keras.layers.Dense(10, activation=tf.nn.softmax))\n",
        "model.compile(optimizer='adam',\n",
        "              loss='sparse_categorical_crossentropy',\n",
        "              metrics=['accuracy'])\n",
        "model.fit(x_train, y_train, epochs=10)"
      ],
      "execution_count": null,
      "outputs": []
    },
    {
      "cell_type": "code",
      "metadata": {
        "id": "96KcHOdxGUsV"
      },
      "source": [
        "digits = tf.keras.utils.normalize(digits, axis=1)"
      ],
      "execution_count": null,
      "outputs": []
    },
    {
      "cell_type": "code",
      "metadata": {
        "id": "As6AxXerDxNH",
        "outputId": "22b55b65-1610-49cf-bab7-db0c91a190c4",
        "colab": {
          "base_uri": "https://localhost:8080/",
          "height": 34
        }
      },
      "source": [
        "model.save('epic_num_reader.model')\n",
        "new_model = tf.keras.models.load_model('epic_num_reader.model')\n",
        "predictions = new_model.predict(digits)\n",
        "#type(digits[0])\n",
        "#type(x_test[0])\n",
        "\n",
        "#print(predictions)"
      ],
      "execution_count": null,
      "outputs": [
        {
          "output_type": "stream",
          "text": [
            "INFO:tensorflow:Assets written to: epic_num_reader.model/assets\n"
          ],
          "name": "stdout"
        }
      ]
    },
    {
      "cell_type": "code",
      "metadata": {
        "id": "taIUWg7-D_U7"
      },
      "source": [
        "import numpy as np\n",
        "#plt.imshow(digits[0],cmap=plt.cm.binary)\n",
        "#plt.show()\n",
        "count=0\n",
        "for i in range(81):\n",
        "  print(np.argmax(predictions[i]))\n",
        "  count=count+1\n",
        "#var = (np.argmax(predictions[17]))\n",
        "#var = tf.keras.utils.normalize(digits[0], axis=1)\n",
        "# print(np.argmax(digits[0]))\n",
        "#plt.imshow(digits[17],cmap=plt.cm.binary)\n",
        "#plt.show()\n",
        "# print(digits[9])\n",
        "#var\n",
        "#count"
      ],
      "execution_count": null,
      "outputs": []
    },
    {
      "cell_type": "code",
      "metadata": {
        "id": "OWFOvSrsruWW",
        "outputId": "ca8705dd-c214-40cd-97d4-6ed45f1fd729",
        "colab": {
          "base_uri": "https://localhost:8080/",
          "height": 54
        }
      },
      "source": [
        "r , c = (9,9)\n",
        "count = 0 \n",
        "ans = []\n",
        "for i in range(r):\n",
        "    l = []\n",
        "    for j in range(c):\n",
        "        temp=np.argmax(predictions[count])\n",
        "        l.append(temp)\n",
        "        count = count + 1\n",
        "    ans.append(l)\n",
        "print(ans)"
      ],
      "execution_count": null,
      "outputs": [
        {
          "output_type": "stream",
          "text": [
            "[[3, 2, 0, 8, 0, 3, 0, 8, 8], [0, 0, 0, 0, 6, 0, 0, 0, 0], [0, 1, 0, 8, 0, 2, 0, 3, 0], [8, 0, 3, 0, 0, 0, 5, 0, 8], [0, 3, 0, 0, 0, 0, 0, 3, 0], [1, 0, 8, 0, 0, 0, 6, 0, 2], [0, 6, 0, 6, 0, 8, 0, 3, 0], [0, 0, 0, 0, 5, 0, 0, 0, 0], [2, 4, 0, 9, 0, 5, 0, 3, 3]]\n"
          ],
          "name": "stdout"
        }
      ]
    },
    {
      "cell_type": "code",
      "metadata": {
        "id": "n89FMJcLpRQi",
        "outputId": "69e63088-d305-4f40-b7ad-a27a812ede84",
        "colab": {
          "base_uri": "https://localhost:8080/",
          "height": 403
        }
      },
      "source": [
        "board = [\n",
        "    [7,8,0,4,0,0,1,2,0],\n",
        "    [6,0,0,0,7,5,0,0,9],\n",
        "    [0,0,0,6,0,1,0,7,8],\n",
        "    [0,0,7,0,4,0,2,6,0],\n",
        "    [0,0,1,0,5,0,9,3,0],\n",
        "    [9,0,4,0,6,0,0,0,5],\n",
        "    [0,7,0,3,0,0,0,1,2],\n",
        "    [1,2,0,0,0,7,4,0,0],\n",
        "    [0,4,9,2,0,6,0,0,7]\n",
        "]\n",
        "\n",
        "def print_board(bo):\n",
        "    for i in range(len(bo)):\n",
        "        if i % 3 == 0 and i != 0:\n",
        "            print(\"- - - - - - - - - - - - - \")\n",
        "\n",
        "        for j in range(len(bo[0])):\n",
        "            if j % 3 == 0 and j != 0:\n",
        "                print(\" | \", end=\"\")\n",
        "\n",
        "            if j == 8:\n",
        "                print(bo[i][j])\n",
        "            else:\n",
        "                print(str(bo[i][j]) + \" \", end=\"\")\n",
        "\n",
        "\n",
        "def find_empty(bo):\n",
        "    for i in range(len(bo)):\n",
        "        for j in range(len(bo[0])):\n",
        "            if bo[i][j] == 0:\n",
        "                return (i, j)  # row, col\n",
        "\n",
        "    return None\n",
        "\n",
        "\n",
        "def solve(bo):\n",
        "    find = find_empty(bo)\n",
        "    if not find:\n",
        "        return True\n",
        "    else:\n",
        "        row, col = find\n",
        "\n",
        "    for i in range(1,10):\n",
        "        if valid(bo, i, (row, col)):\n",
        "            bo[row][col] = i\n",
        "\n",
        "            if solve(bo):\n",
        "                return True\n",
        "\n",
        "            bo[row][col] = 0\n",
        "\n",
        "    return False\n",
        "\n",
        "\n",
        "def valid(bo, num, pos):\n",
        "    # Check row\n",
        "    for i in range(len(bo[0])):\n",
        "        if bo[pos[0]][i] == num and pos[1] != i:\n",
        "            return False\n",
        "\n",
        "    # Check column\n",
        "    for i in range(len(bo)):\n",
        "        if bo[i][pos[1]] == num and pos[0] != i:\n",
        "            return False\n",
        "\n",
        "    # Check box\n",
        "    box_x = pos[1] // 3\n",
        "    box_y = pos[0] // 3\n",
        "\n",
        "    for i in range(box_y*3, box_y*3 + 3):\n",
        "        for j in range(box_x * 3, box_x*3 + 3):\n",
        "            if bo[i][j] == num and (i,j) != pos:\n",
        "                return False\n",
        "\n",
        "    return True\n",
        "\n",
        "\n",
        "def print_board(bo):\n",
        "    for i in range(len(bo)):\n",
        "        if i % 3 == 0 and i != 0:\n",
        "            print(\"- - - - - - - - - - - - - \")\n",
        "\n",
        "        for j in range(len(bo[0])):\n",
        "            if j % 3 == 0 and j != 0:\n",
        "                print(\" | \", end=\"\")\n",
        "\n",
        "            if j == 8:\n",
        "                print(bo[i][j])\n",
        "            else:\n",
        "                print(str(bo[i][j]) + \" \", end=\"\")\n",
        "\n",
        "\n",
        "def find_empty(bo):\n",
        "    for i in range(len(bo)):\n",
        "        for j in range(len(bo[0])):\n",
        "            if bo[i][j] == 0:\n",
        "                return (i, j)  # row, col\n",
        "\n",
        "    return None\n",
        "\n",
        "print_board(board)\n",
        "solve(board)\n",
        "print(\"____________________________\")\n",
        "print_board(board)"
      ],
      "execution_count": null,
      "outputs": [
        {
          "output_type": "stream",
          "text": [
            "7 8 0  | 4 0 0  | 1 2 0\n",
            "6 0 0  | 0 7 5  | 0 0 9\n",
            "0 0 0  | 6 0 1  | 0 7 8\n",
            "- - - - - - - - - - - - - \n",
            "0 0 7  | 0 4 0  | 2 6 0\n",
            "0 0 1  | 0 5 0  | 9 3 0\n",
            "9 0 4  | 0 6 0  | 0 0 5\n",
            "- - - - - - - - - - - - - \n",
            "0 7 0  | 3 0 0  | 0 1 2\n",
            "1 2 0  | 0 0 7  | 4 0 0\n",
            "0 4 9  | 2 0 6  | 0 0 7\n",
            "____________________________\n",
            "7 8 5  | 4 3 9  | 1 2 6\n",
            "6 1 2  | 8 7 5  | 3 4 9\n",
            "4 9 3  | 6 2 1  | 5 7 8\n",
            "- - - - - - - - - - - - - \n",
            "8 5 7  | 9 4 3  | 2 6 1\n",
            "2 6 1  | 7 5 8  | 9 3 4\n",
            "9 3 4  | 1 6 2  | 7 8 5\n",
            "- - - - - - - - - - - - - \n",
            "5 7 8  | 3 9 4  | 6 1 2\n",
            "1 2 6  | 5 8 7  | 4 9 3\n",
            "3 4 9  | 2 1 6  | 8 5 7\n"
          ],
          "name": "stdout"
        }
      ]
    },
    {
      "cell_type": "code",
      "metadata": {
        "id": "DSntMwY9qk8x"
      },
      "source": [
        ""
      ],
      "execution_count": null,
      "outputs": []
    }
  ]
}